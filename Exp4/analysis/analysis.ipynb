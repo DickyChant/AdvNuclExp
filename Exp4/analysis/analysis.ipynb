{
 "metadata": {
  "language_info": {
   "codemirror_mode": {
    "name": "ipython",
    "version": 3
   },
   "file_extension": ".py",
   "mimetype": "text/x-python",
   "name": "python",
   "nbconvert_exporter": "python",
   "pygments_lexer": "ipython3",
   "version": "3.8.6"
  },
  "orig_nbformat": 2,
  "kernelspec": {
   "name": "python386jvsc74a57bd0916dbcbb3f70747c44a77c7bcd40155683ae19c65e1c03b4aa3499c5328201f1",
   "display_name": "Python 3.8.6 64-bit"
  },
  "metadata": {
   "interpreter": {
    "hash": "916dbcbb3f70747c44a77c7bcd40155683ae19c65e1c03b4aa3499c5328201f1"
   }
  }
 },
 "nbformat": 4,
 "nbformat_minor": 2,
 "cells": [
  {
   "cell_type": "code",
   "execution_count": 1,
   "metadata": {},
   "outputs": [],
   "source": [
    "import pandas as pd\n",
    "import matplotlib.pyplot as plt\n",
    "import numpy as np"
   ]
  },
  {
   "cell_type": "code",
   "execution_count": 2,
   "metadata": {},
   "outputs": [
    {
     "output_type": "stream",
     "name": "stderr",
     "text": [
      "/usr/lib/python3.9/_collections_abc.py:940: MatplotlibDeprecationWarning: \nThe mathtext.fallback_to_cm rcparam was deprecated in Matplotlib 3.3 and will be removed two minor releases later.\n  self[key] = other[key]\n/usr/lib/python3.9/_collections_abc.py:940: MatplotlibDeprecationWarning: Support for setting the 'mathtext.fallback_to_cm' rcParam is deprecated since 3.3 and will be removed two minor releases later; use 'mathtext.fallback : 'cm' instead.\n  self[key] = other[key]\n/usr/lib/python3.9/_collections_abc.py:940: MatplotlibDeprecationWarning: \nThe validate_bool_maybe_none function was deprecated in Matplotlib 3.3 and will be removed two minor releases later.\n  self[key] = other[key]\n"
     ]
    }
   ],
   "source": [
    "import matplotlib as mpl\n",
    "plt.style.use(\"seaborn-paper\")\n",
    "mpl.rcParams.update({\n",
    "    'font.family': 'STIXGeneral',\n",
    "    # 'font.sans-serif': ['Times New Roman'],\n",
    "    'mathtext.default':'rm',\n",
    "    'mathtext.fontset':'stix',\n",
    "    'mathtext.fallback_to_cm':False,\n",
    "    \"axes.titlesize\" : 24,\n",
    "\"axes.labelsize\" : 20,\n",
    "\"lines.linewidth\" : 3,\n",
    "\"lines.markersize\" : 10,\n",
    "\"xtick.labelsize\" : 18,\n",
    "\"ytick.labelsize\" : 18,\n",
    "'savefig.dpi':300,\n",
    "'legend.fontsize':20,\n",
    "'figure.figsize':(8,6)\n",
    "    })\n",
    "plt.rcParams['axes.unicode_minus'] = False"
   ]
  },
  {
   "cell_type": "code",
   "execution_count": null,
   "metadata": {},
   "outputs": [],
   "source": []
  }
 ]
}